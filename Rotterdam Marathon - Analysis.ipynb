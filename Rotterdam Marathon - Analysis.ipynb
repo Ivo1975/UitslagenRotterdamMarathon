{
 "cells": [
  {
   "cell_type": "code",
   "execution_count": null,
   "metadata": {},
   "outputs": [],
   "source": [
    "import pandas as pd\n",
    "import re\n",
    "import numpy as np\n",
    "from datetime import datetime, date\n",
    "%matplotlib inline"
   ]
  },
  {
   "cell_type": "code",
   "execution_count": null,
   "metadata": {},
   "outputs": [],
   "source": [
    "#Define general functions\n",
    "# Convert times to minutes\n",
    "\n",
    "def hms_to_s(s):\n",
    "    t = 0\n",
    "    for u in s.split(':'):\n",
    "        t = 60 * t + int(u)\n",
    "    return t\n",
    " \n",
    "def hms_to_min(s):\n",
    "  s=s.split(':')\n",
    "  t = int(s[0])*60+int(s[1])*1 +int(s[2])/60\n",
    "  return t\n",
    " \n",
    "def ms_to_min(s):\n",
    "  s=s.split(':')\n",
    "  t = int(s[0])*1 +int(s[1])/60\n",
    "  return t\n",
    "\n",
    "\n",
    "def Clean_times(times):\n",
    "    # Search for opening bracket in the time followed by\n",
    "    # any characters repeated any number of times\n",
    "    if re.search('\\(.*', times):\n",
    "        # Extract the position of beginning of pattern\n",
    "        pos = re.search('\\(.*', times).start()\n",
    "        # return the cleaned time\n",
    "        return times[:pos]\n",
    "    else:\n",
    "        # if clean up needed return the same time\n",
    "        return times\n",
    "\n",
    "\n",
    "def Split_times(times):\n",
    "    split_re = re.compile('.*\\((.*)\\).*')\n",
    "    # Search for opening bracket in the time followed by\n",
    "    # any characters repeated any number of times\n",
    "    if re.search('\\(.*', times):\n",
    "        # Split the times in group based on the pattern\n",
    "        match = re.search(split_re, times)\n",
    "         # return the cleaned time between parentheses\n",
    "        return match.group(1)\n",
    "    else:\n",
    "        # if clean up needed return the same time\n",
    "        return times\n",
    "    \n",
    "def convert(seconds):\n",
    "    seconds = seconds % (24 * 3600)\n",
    "    hour = seconds // 3600\n",
    "    seconds %= 3600\n",
    "    minutes = seconds // 60\n",
    "    seconds %= 60\n",
    "    return \"%d:%02d:%02d\" % (hour, minutes, seconds)\n",
    "\n",
    "def hms_to_time(s):\n",
    "    t = 0\n",
    "    for u in s.split(':'):\n",
    "        t = 60 * t + int(u)\n",
    "    return convert(t)\n",
    "\n",
    "def seconds_to_time(time_to_convert):\n",
    "     return datetime.strptime(convert(time_to_convert), '%H:%M:%S').time()"
   ]
  },
  {
   "cell_type": "code",
   "execution_count": null,
   "metadata": {},
   "outputs": [],
   "source": [
    "#df_2008 = pd.read_csv('uitslagen2008.csv')\n",
    "df_2009 = pd.read_csv('uitslagen2009.csv')\n",
    "df_2010 = pd.read_csv('uitslagen2010.csv')\n",
    "df_2011 = pd.read_csv('uitslagen2011.csv')\n",
    "df_2012 = pd.read_csv('uitslagen2012.csv')\n",
    "df_2013 = pd.read_csv('uitslagen2013.csv')\n",
    "df_2014 = pd.read_csv('uitslagen2014.csv')\n",
    "df_2015 = pd.read_csv('uitslagen2015.csv')\n",
    "df_2016 = pd.read_csv('uitslagen2016.csv')\n",
    "df_2017 = pd.read_csv('uitslagen2017.csv')\n",
    "years = [df_2009, df_2010, df_2011, df_2012, df_2013, df_2014, df_2015, df_2016, df_2017]\n",
    "results = pd.concat(years, sort=False)\n",
    "results.info()"
   ]
  },
  {
   "cell_type": "code",
   "execution_count": null,
   "metadata": {},
   "outputs": [],
   "source": [
    "# Clean up data frame by only keeping necessary columns\n",
    "runners_df = results[[\"Place_y\",\"Name\",\"City_y\",\"Country\",\"AgegroupPlace\",\"Agegroup\",\"Guntime\", \"Chiptime\", \n",
    "                      \"5KM\", \"10KM\", \"15KM\",\"20KM\", \"HALF\", \"25KM\", \"30KM\", \"35KM\", \"40KM\", \"Bib\",\"Distance\",\"Year\"]]\n",
    "runners_df.rename(columns={\"Place_y\": \"Place\",\"City_y\": \"City\"},inplace=True)\n",
    "runners_df['Year'] = runners_df['Year'].apply('{:.0f}'.format)\n",
    "runners_df.head()"
   ]
  },
  {
   "cell_type": "code",
   "execution_count": null,
   "metadata": {},
   "outputs": [],
   "source": [
    "#Clean and seperate columns\n",
    "#difference between male and female agegroup. Femal agegroup stops at 50+ while male goes on to 60+\n",
    "#Normalised to one agegroup 50+\n",
    "\n",
    "runners_df['AgegroupPlace'] = runners_df['AgegroupPlace'].str.replace(r'\\D', '').astype(int)\n",
    "runners_df['Gender'] = runners_df['Agegroup'].str[0].replace({'V': 'F'})\n",
    "runners_df['Age'] = runners_df['Agegroup'].str[1:].replace({'SR': '18-34', '35': '35-39', '40': '40-44', '45': '45-49','50':'50-','55':'50-','60':'50-'})\n",
    "runners_df.head()\n",
    "\n",
    "\n",
    "#df['Gender'] = df['Agegroup'].str[0]\n",
    "#df['Age'] = df['Agegroup'].str[1:].map({\n",
    "#    '014': '0-14',\n",
    "#    '1524': '15-24',\n",
    "#    '2534': '25-34',\n",
    "#    '3544': '35-44',\n",
    "#    '4554': '45-54',\n",
    "#    '5564': '55-64',\n",
    "#    '65': '65+'\n",
    "#})"
   ]
  },
  {
   "cell_type": "code",
   "execution_count": null,
   "metadata": {},
   "outputs": [],
   "source": [
    "splits = (\"5KM\",\"10KM\",\"15KM\",\"20KM\",\"25KM\",\"30KM\",\"35KM\",\"40KM\")\n",
    "\n",
    "for i in splits:\n",
    "    runners_df[['distance_'+i+'_time','split_'+i+'_time']] = runners_df[i].apply(lambda x: pd.Series(str(x).split(\" \")))\n",
    "    runners_df['distance_'+i+'_time'] = runners_df['distance_'+i+'_time'].astype(str).apply(Clean_times)\n",
    "    runners_df['split_'+i+'_time'] = runners_df['split_'+i+'_time'].astype(str).apply(Split_times)\n",
    "    runners_df[['distance_'+i+'_time','split_'+i+'_time']] = runners_df[['distance_'+i+'_time','split_'+i+'_time']].replace({'nan':np.nan, 0:np.nan, \"\":np.nan}).fillna(\"00:00\")"
   ]
  },
  {
   "cell_type": "code",
   "execution_count": null,
   "metadata": {},
   "outputs": [],
   "source": [
    "#Convert all the time strings to a time in seconds\n",
    "cols=[]\n",
    "for i in splits:\n",
    "    t1 = 'split_'+i+'_time'\n",
    "    t2 = 'distance_'+i+'_time'\n",
    "    cols.append(t1)\n",
    "    cols.append(t2)\n",
    "print(cols)\n",
    "for i in cols:\n",
    "    runners_df[i]= runners_df[i].apply(hms_to_s)\n",
    "runners_df[\"Guntime_s\"] = runners_df[\"Guntime\"].apply(hms_to_s)\n",
    "runners_df[\"Chiptime_s\"] = runners_df[\"Chiptime\"].apply(hms_to_s)\n",
    "runners_df.head(10)"
   ]
  },
  {
   "cell_type": "code",
   "execution_count": null,
   "metadata": {},
   "outputs": [],
   "source": [
    "#timing mat for splits at 10KM in 2012 was not working, so no (split)times for 10KM and no splittime for 15KM in 2012\n",
    "#calculate timing based on even pace between 5K and 15K\n",
    "#check if previous time is not NaN\n",
    "\n",
    "runners_df[runners_df[\"Year\"]==\"2012\"[\"split_10KM_time\"] = runners_df[runners_df[\"Year\"]==\"2012\"[\"distance_5KM_time\"]\n",
    "runners_df[runners_df[\"Year\"]==\"2012\"[\"distance_10KM_time\"] = runners_df[runners_df[\"Year\"]==\"2012\"[\"distance_5KM_time\"] + runners_df[runners_df[\"Year\"]==\"2012\"[\"split_10KM_time\"] \n",
    "runners_df[runners_df[\"Year\"]==\"2012\"[\"split_15KM_time\"] = runners_df[runners_df[\"Year\"]==\"2012\"[\"distance_15KM_time\"] - runners_df[runners_df[\"Year\"]==\"2012\"\n",
    "                                                                                                                                    \n",
    "                                                                                                                                    \n",
    "                                                                                                                                    [\"distance_10KM_time\"]\n",
    "\n",
    "#Calculate last split\n",
    "runners_df[\"split_42KM_time\"] = runners_df[\"Chiptime\"].apply(hms_to_s) - runners_df[\"distance_40KM_time\"]\n",
    "runners_df[\"distance_42KM_time\"] = runners_df[\"Chiptime\"].apply(hms_to_s)\n",
    "\n",
    "   "
   ]
  },
  {
   "cell_type": "code",
   "execution_count": null,
   "metadata": {},
   "outputs": [],
   "source": [
    "is2012 = runners_df[runners_df[\"Year\"]==\"2012\"]\n",
    "print(is2012.head())"
   ]
  },
  {
   "cell_type": "code",
   "execution_count": null,
   "metadata": {},
   "outputs": [],
   "source": [
    "df_2012.describe()"
   ]
  },
  {
   "cell_type": "code",
   "execution_count": null,
   "metadata": {},
   "outputs": [],
   "source": [
    "#drop all runners who also missed one or more timing mats\n",
    "\n",
    "#first create NaN value for all the null, zero;s\n",
    "for i in cols:\n",
    "    runners_df[i]= runners_df[i].replace(0,np.nan)\n",
    "\n",
    "#remove columns not needed or double\n",
    "dataset_df = runners_df[[\"Place\",\"Name\",\"City\",\"Country\",\"AgegroupPlace\",\"Agegroup\",\"Guntime_s\",\"Chiptime_s\",\"HALF\", \n",
    "                         \"Bib\",\"Gender\",\"Age\",\"Distance\",\"Year\",'split_5KM_time', 'distance_5KM_time', 'split_10KM_time', 'distance_10KM_time', \n",
    "                         'split_15KM_time', 'distance_15KM_time', 'split_20KM_time', 'distance_20KM_time', 'split_25KM_time', \n",
    "                         'distance_25KM_time', 'split_30KM_time', 'distance_30KM_time', 'split_35KM_time', 'distance_35KM_time',\n",
    "                         'split_40KM_time', 'distance_40KM_time',\"split_42KM_time\",\"distance_42KM_time\"]]\n",
    " \n",
    "#drop all records with NaN    \n",
    "dataset_df = dataset_df.dropna()\n",
    "\n",
    "#Check drop percentage\n",
    "dropped = ((len(runners_df) -len(dataset_df)) / len(runners_df))*100\n",
    "print(\"percentage of runners dropped: \"+ str(dropped))"
   ]
  },
  {
   "cell_type": "code",
   "execution_count": null,
   "metadata": {},
   "outputs": [],
   "source": [
    "#Optional convert all the time in seconds to Datetime.Time series\n",
    "#Difficult to perform calculations\n",
    "col2 = [\"split_5KM_time\",\"split_10KM_time\",\"split_15KM_time\",\"split_20KM_time\",\n",
    "               \"split_25KM_time\",\"split_30KM_time\",\"split_35KM_time\",\"split_40KM_time\",\"split_42KM_time\",\"distance_5KM_time\",\"distance_10KM_time\",\"distance_15KM_time\",\"distance_20KM_time\",\n",
    "               \"distance_25KM_time\",\"distance_30KM_time\",\"distance_35KM_time\",\"distance_40KM_time\",\"distance_42KM_time\"]\n",
    "for i in col2:\n",
    "    dataset_df[i] = dataset_df[i].apply(seconds_to_time)\n",
    "dataset_df.head(10)"
   ]
  },
  {
   "cell_type": "code",
   "execution_count": null,
   "metadata": {},
   "outputs": [],
   "source": [
    "df1 = dataset_df.melt(id_vars=[\"Place\",\"Name\",\"City\",\"Country\",\"AgegroupPlace\",\"Agegroup\",\"Guntime_s\", \"Chiptime_s\", \n",
    "                      \"HALF\", \"Bib\",\"Gender\",\"Age\",\"Year\"], \n",
    "              value_vars=[\"distance_5KM_time\",\"distance_10KM_time\",\"distance_15KM_time\",\"distance_20KM_time\",\n",
    "               \"distance_25KM_time\",\"distance_30KM_time\",\"distance_35KM_time\",\"distance_40KM_time\",\"distance_42KM_time\"],\n",
    "              var_name='distance', value_name='distance_time')\n",
    "df2 = dataset_df.melt(id_vars=[\"Place\",\"Name\",\"City\",\"Country\",\"AgegroupPlace\",\"Agegroup\",\"Guntime_s\", \"Chiptime_s\", \n",
    "                      \"HALF\", \"Bib\",\"Gender\",\"Age\",\"Year\"], \n",
    "              value_vars=[\"split_5KM_time\",\"split_10KM_time\",\"split_15KM_time\",\"split_20KM_time\",\n",
    "               \"split_25KM_time\",\"split_30KM_time\",\"split_35KM_time\",\"split_40KM_time\",\"split_42KM_time\"],\n",
    "              var_name='distance', value_name='split_time')"
   ]
  },
  {
   "cell_type": "code",
   "execution_count": null,
   "metadata": {},
   "outputs": [],
   "source": [
    "df1[\"distance\"] = df1['distance'].str.extract('(\\d+)', expand=False).astype(int)\n",
    "df2[\"distance\"] = df2['distance'].str.extract('(\\d+)', expand=False).astype(int)"
   ]
  },
  {
   "cell_type": "code",
   "execution_count": null,
   "metadata": {},
   "outputs": [],
   "source": [
    "df2[df2[\"Name\"]==\"Ivo Nobel\"].head()"
   ]
  },
  {
   "cell_type": "code",
   "execution_count": null,
   "metadata": {},
   "outputs": [],
   "source": [
    "df1 = df1.set_index([\"Place\",\"Name\",\"City\",\"Country\",\"AgegroupPlace\",\"Agegroup\",\"Guntime_s\", \"Chiptime_s\", \n",
    "                      \"HALF\", \"Bib\",\"Gender\",\"Age\",\"Year\",\"distance\", df1.groupby([\"Place\",\"Name\",\"City\",\"Country\",\"AgegroupPlace\",\"Agegroup\",\"Guntime_s\", \"Chiptime_s\", \n",
    "                      \"HALF\", \"Bib\",\"Gender\",\"Age\",\"Year\",\"distance\"]).cumcount()])\n",
    "df2 = df2.set_index([\"Place\",\"Name\",\"City\",\"Country\",\"AgegroupPlace\",\"Agegroup\",\"Guntime_s\", \"Chiptime_s\", \n",
    "                      \"HALF\", \"Bib\",\"Gender\",\"Age\",\"Year\",\"distance\", df1.groupby([\"Place\",\"Name\",\"City\",\"Country\",\"AgegroupPlace\",\"Agegroup\",\"Guntime_s\", \"Chiptime_s\", \n",
    "                      \"HALF\", \"Bib\",\"Gender\",\"Age\",\"Year\",\"distance\"]).cumcount()])\n",
    "df3 = (pd.concat([df1, df2],axis=1)\n",
    "         .sort_index(level=14)\n",
    "         .reset_index(level=14, drop=True)\n",
    "         .reset_index())\n",
    "df3.to_csv (\"complete_dataset.csv\", index = None, header=True)"
   ]
  },
  {
   "cell_type": "code",
   "execution_count": null,
   "metadata": {},
   "outputs": [],
   "source": [
    "df3.head()"
   ]
  },
  {
   "cell_type": "markdown",
   "metadata": {},
   "source": [
    "In the processed runners dataset, we can see duplicates of finish results, it’s because this table actually contains two types of observational units, marathon results and split times. To tidy it, we first generate identities for each marathon finish, i.e. id, and then separate them into different tables."
   ]
  },
  {
   "cell_type": "code",
   "execution_count": null,
   "metadata": {},
   "outputs": [],
   "source": [
    "#df = pd.read_csv('data/billboard-intermediate.csv')\n",
    "df_marathon = df3[[\"Place\",\"Name\",\"City\",\"Country\",\"AgegroupPlace\",\"Agegroup\",\"Chiptime_s\", \"Guntime_s\", \n",
    "                      \"HALF\", \"Bib\",\"Gender\",\"Age\",\"Year\"]].drop_duplicates()\n",
    "df_marathon.insert(0, 'id', range(1, len(df_marathon) + 1))\n",
    "df_split = pd.merge(df3, df_marathon, on=[\"Place\",\"Name\",\"City\",\"Country\",\"AgegroupPlace\",\"Agegroup\",\"Guntime_s\", \"Chiptime_s\", \n",
    "                      \"HALF\", \"Bib\",\"Gender\",\"Age\",\"Year\"])\n",
    "df_split = df_split[['id', 'distance', 'distance_time','split_time']]\n",
    "df_marathon.to_csv('marathon-results.csv', index=False)\n",
    "df_split.to_csv('marathon-splits.csv', index=False)\n",
    "print(df_marathon, '\\n\\n', df_split)"
   ]
  },
  {
   "cell_type": "code",
   "execution_count": null,
   "metadata": {},
   "outputs": [],
   "source": [
    "#number of finsihers\n",
    "runners_by_country = df_marathon.groupby(['Year'])['Name'].count()\n",
    "runners_by_country.plot.bar()"
   ]
  },
  {
   "cell_type": "code",
   "execution_count": null,
   "metadata": {},
   "outputs": [],
   "source": [
    "#average finish time\n",
    "runners_by_country = df_marathon.groupby(['Year'])['Chiptime_s'].mean()\n",
    "runners_by_country.plot.line()"
   ]
  },
  {
   "cell_type": "code",
   "execution_count": null,
   "metadata": {},
   "outputs": [],
   "source": [
    "import chartify\n",
    "import bokeh\n",
    "from bokeh.models import NumeralTickFormatter\n",
    "from bokeh.models import LinearAxis"
   ]
  },
  {
   "cell_type": "code",
   "execution_count": null,
   "metadata": {},
   "outputs": [],
   "source": [
    "runners_by_year = df_marathon.groupby(['Year'])['Name'].count().reset_index()\n",
    "ch = chartify.Chart(blank_labels=True, x_axis_type='categorical')\n",
    "ch.set_title(\"Finishers in the Rotterdam Marathon\")\n",
    "ch.set_subtitle(\"more and more\")\n",
    "ch.plot.bar(\n",
    "        data_frame=runners_by_year,\n",
    "        categorical_columns='Year',\n",
    "        numeric_column='Name',\n",
    "        categorical_order_by='labels',\n",
    "        categorical_order_ascending=True)\n",
    "ch.show()"
   ]
  },
  {
   "cell_type": "code",
   "execution_count": null,
   "metadata": {},
   "outputs": [],
   "source": [
    "n_countries = 10\n",
    "country_counts_sorted = df_marathon[['Country','Name']]\n",
    "country_counts_sorted = country_counts_sorted.replace(country_counts_sorted.groupby(['Country'])['Name'].count().sort_values(ascending=False).index[n_countries:],'Other countries').groupby(['Country'])['Name'].count().sort_values(ascending=False).reset_index()"
   ]
  },
  {
   "cell_type": "code",
   "execution_count": null,
   "metadata": {},
   "outputs": [],
   "source": [
    "ch = chartify.Chart(blank_labels=True, x_axis_type='categorical')\n",
    "ch.set_title(\"International marathon\")\n",
    "ch.set_subtitle(\"finisher by country\")\n",
    "ch.plot.bar(\n",
    "        data_frame=country_counts_sorted,\n",
    "        categorical_columns='Country',\n",
    "        numeric_column='Name',\n",
    "        categorical_order_by='values')\n",
    "ch.show()"
   ]
  },
  {
   "cell_type": "code",
   "execution_count": null,
   "metadata": {},
   "outputs": [],
   "source": [
    "from math import pi\n",
    "from bokeh.io import output_file, show\n",
    "from bokeh.palettes import Category20c\n",
    "from bokeh.plotting import figure\n",
    "from bokeh.transform import cumsum"
   ]
  },
  {
   "cell_type": "code",
   "execution_count": null,
   "metadata": {},
   "outputs": [],
   "source": [
    "data = country_counts_sorted.rename(columns={'Name':'value'})"
   ]
  },
  {
   "cell_type": "code",
   "execution_count": null,
   "metadata": {},
   "outputs": [],
   "source": [
    "data['angle'] = data['value']/data['value'].sum() * 2*pi\n",
    "data['color'] = Category20c[len(country_counts_sorted)]\n",
    "\n",
    "p = figure(plot_height=350, title=\"International marathon\", toolbar_location=None,\n",
    "           tools=\"hover\", tooltips=\"@Country: @value\", x_range=(-0.5, 1.0))\n",
    "\n",
    "p.wedge(x=0, y=1, radius=0.4,\n",
    "        start_angle=cumsum('angle', include_zero=True), end_angle=cumsum('angle'),\n",
    "        line_color=\"white\", fill_color='color', legend='Country', source=data)\n",
    "\n",
    "p.axis.axis_label=None\n",
    "p.axis.visible=False\n",
    "p.grid.grid_line_color = None\n",
    "show(p)"
   ]
  },
  {
   "cell_type": "code",
   "execution_count": null,
   "metadata": {},
   "outputs": [],
   "source": [
    "# Non-US countries: Does this follow some sort of power-trend law, i.e. the decrease between subsequent numbers?\n",
    "country_counts_sorted = df_marathon[['Country','Name']]\n",
    "country_counts_sorted_not_NED = country_counts_sorted.groupby(['Country'])['Name'].count().sort_values(ascending=False).reset_index()[1:]\n",
    "country_counts_sorted_not_NED = country_counts_sorted_not_NED.rename(columns={'Name':'value'})\n",
    "country_counts_sorted_not_NED = country_counts_sorted_not_NED.replace(country_counts_sorted_not_NED.groupby(['Country'])['value'].sum().sort_values(ascending=False).index[n_countries:],'Other countries').groupby(['Country'])['value'].sum().sort_values(ascending=False).reset_index()\n",
    "data = country_counts_sorted_not_NED\n",
    "\n",
    "data['angle'] = data['value']/data['value'].sum() * 2*pi\n",
    "data['color'] = Category20c[len(country_counts_sorted_not_NED)]\n",
    "\n",
    "p = figure(plot_height=350, title=\"International marathon - non-dutch runners\", toolbar_location=None,\n",
    "           tools=\"hover\", tooltips=\"@Country: @value\", x_range=(-0.5, 1.0))\n",
    "\n",
    "p.wedge(x=0, y=1, radius=0.4,\n",
    "        start_angle=cumsum('angle', include_zero=True), end_angle=cumsum('angle'),\n",
    "        line_color=\"white\", fill_color='color', legend='Country', source=data)\n",
    "\n",
    "p.axis.axis_label=None\n",
    "p.axis.visible=False\n",
    "p.grid.grid_line_color = None\n",
    "show(p)"
   ]
  },
  {
   "cell_type": "code",
   "execution_count": null,
   "metadata": {},
   "outputs": [],
   "source": [
    "runners_by_country_gender = df_marathon.groupby(['Year','Gender'])['Name'].count().reset_index()\n",
    "ch = chartify.Chart(blank_labels=True, x_axis_type='categorical')\n",
    "ch.set_title(\"Gender of the finishers\")\n",
    "ch.set_subtitle(\"More women are running the marathon\")\n",
    "ch.plot.bar_stacked(\n",
    "        data_frame=runners_by_country_gender,\n",
    "        categorical_columns='Year',\n",
    "        numeric_column='Name',\n",
    "        stack_column=\"Gender\",\n",
    "        normalize=True,\n",
    "        categorical_order_by='labels',\n",
    "        categorical_order_ascending=True)\n",
    "ch.show()"
   ]
  },
  {
   "cell_type": "code",
   "execution_count": null,
   "metadata": {},
   "outputs": [],
   "source": [
    "ch = chartify.Chart(blank_labels=True, y_axis_type='density')\n",
    "ch.set_title(\"Histogram of the finishtimes\")\n",
    "ch.set_subtitle(\"2009 - 2017\")\n",
    "ch.plot.histogram(\n",
    "        data_frame=df_marathon,\n",
    "        values_column='Guntime_s',\n",
    "        bins=40\n",
    "        )\n",
    "ch.figure\n",
    "ch.axes.set_xaxis_label('Finish times')\n",
    "ch.axes.set_xaxis_tick_values(list(range(0, 100000, 1800)))\n",
    "ch.figure.xaxis.formatter = NumeralTickFormatter(format=\"00:00:00\")\n",
    "ch.show()"
   ]
  },
  {
   "cell_type": "code",
   "execution_count": null,
   "metadata": {},
   "outputs": [],
   "source": [
    "ch = chartify.Chart(blank_labels=True, y_axis_type='density')\n",
    "ch.set_title(\"Histogram of the finishtimes\")\n",
    "ch.set_subtitle(\"2009 - 2017\")\n",
    "ch.plot.histogram(\n",
    "        data_frame=df_marathon,\n",
    "        values_column='Guntime_s',\n",
    "        color_column='Gender',\n",
    "        bins=40\n",
    "        )\n",
    "ch.figure\n",
    "ch.axes.set_xaxis_label('Finish times')\n",
    "ch.axes.set_xaxis_tick_values(list(range(0, 100000, 1800)))\n",
    "ch.figure.xaxis.formatter = NumeralTickFormatter(format=\"00:00:00\")\n",
    "ch.show()"
   ]
  },
  {
   "cell_type": "code",
   "execution_count": null,
   "metadata": {},
   "outputs": [],
   "source": [
    "split_by_5KM = (\n",
    "        df3.groupby(['distance','Gender'])['distance_time'].mean()\n",
    "        .reset_index()  # Move 'date' from index to column\n",
    "        )"
   ]
  },
  {
   "cell_type": "code",
   "execution_count": null,
   "metadata": {},
   "outputs": [],
   "source": [
    "    ch = chartify.Chart(blank_labels=True, x_axis_type='linear')\n",
    "    ch.set_title(\"Line charts\")\n",
    "    ch.set_subtitle(\"Plot two numeric values connected by an ordered line.\")\n",
    "    ch.plot.line(\n",
    "        # Data must be sorted by x column\n",
    "        data_frame=split_by_5KM.sort_values('distance'),\n",
    "        x_column='distance',\n",
    "        y_column='distance_time',\n",
    "        color_column='Gender')\n",
    "    ch.figure.yaxis.formatter = NumeralTickFormatter(format=\"00:00:00\")\n",
    "    ch.figure.xaxis.ticker = [5, 10, 15,20,25,30,35,40,42]\n",
    "    ch.show()"
   ]
  },
  {
   "cell_type": "code",
   "execution_count": null,
   "metadata": {},
   "outputs": [],
   "source": [
    "import plotly.plotly as py\n",
    "import cufflinks as cf\n",
    "import pandas as pd\n",
    "import numpy as np\n",
    "import plotly.graph_objs as go\n",
    "from plotly.offline import download_plotlyjs, init_notebook_mode, plot, iplot\n",
    "init_notebook_mode(connected=True)"
   ]
  },
  {
   "cell_type": "code",
   "execution_count": null,
   "metadata": {},
   "outputs": [],
   "source": [
    "cf.go_offline()\n",
    "box_age = df_marathon[['Year', 'Chiptime_s']]\n",
    "\n",
    "fig = box_age.pivot(columns='Year', values='Chiptime_s').iplot(kind='box',asFigure=True)\n",
    "\n",
    "#fig.update_layout(yaxis_tickformat = '%')\n",
    "fig.iplot()"
   ]
  },
  {
   "cell_type": "code",
   "execution_count": null,
   "metadata": {},
   "outputs": [],
   "source": [
    "boxplot = runners_df.boxplot(column=[\"split_5KM_time\",\"split_10KM_time\",\"split_15KM_time\",\"split_20KM_time\",\n",
    "               \"split_25KM_time\",\"split_30KM_time\",\"split_35KM_time\",\"split_40KM_time\"])"
   ]
  },
  {
   "cell_type": "code",
   "execution_count": null,
   "metadata": {},
   "outputs": [],
   "source": []
  }
 ],
 "metadata": {
  "kernelspec": {
   "display_name": "Python 3",
   "language": "python",
   "name": "python3"
  },
  "language_info": {
   "codemirror_mode": {
    "name": "ipython",
    "version": 3
   },
   "file_extension": ".py",
   "mimetype": "text/x-python",
   "name": "python",
   "nbconvert_exporter": "python",
   "pygments_lexer": "ipython3",
   "version": "3.7.4"
  }
 },
 "nbformat": 4,
 "nbformat_minor": 2
}
